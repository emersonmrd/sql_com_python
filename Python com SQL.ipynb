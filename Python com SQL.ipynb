{
 "cells": [
  {
   "cell_type": "code",
   "execution_count": 1,
   "metadata": {},
   "outputs": [],
   "source": [
    "# Biblioteca\n",
    "import sqlite3\n"
   ]
  },
  {
   "cell_type": "code",
   "execution_count": 2,
   "metadata": {},
   "outputs": [],
   "source": [
    "# Criar um banco de dados\n",
    "Conexao = sqlite3.connect('Banco_Dados')"
   ]
  },
  {
   "cell_type": "code",
   "execution_count": 3,
   "metadata": {},
   "outputs": [],
   "source": [
    "# Apontar para o banco\n",
    "Cursor = Conexao.cursor()"
   ]
  },
  {
   "cell_type": "code",
   "execution_count": 4,
   "metadata": {},
   "outputs": [],
   "source": [
    "# Criando uma tabela\n",
    "Cursor.execute(\n",
    "    ''' \n",
    "        CREATE TABLE Minha_Tabela( Data text, Nome text, Idade real )\n",
    "    '''\n",
    ")\n",
    "\n",
    "# Fazer um commit\n",
    "Conexao.commit()"
   ]
  },
  {
   "cell_type": "code",
   "execution_count": 5,
   "metadata": {},
   "outputs": [
    {
     "data": {
      "text/plain": [
       "<sqlite3.Cursor at 0x2bb361af240>"
      ]
     },
     "execution_count": 5,
     "metadata": {},
     "output_type": "execute_result"
    }
   ],
   "source": [
    "# Inserindo valores\n",
    "Cursor.execute(\n",
    "    '''   \n",
    "        INSERT INTO Minha_Tabela VALUES ( \"01/01/2021\", \"Emerson\", \"23\" )\n",
    "    '''\n",
    ")"
   ]
  },
  {
   "cell_type": "code",
   "execution_count": 6,
   "metadata": {},
   "outputs": [
    {
     "data": {
      "text/plain": [
       "<sqlite3.Cursor at 0x2bb361af240>"
      ]
     },
     "execution_count": 6,
     "metadata": {},
     "output_type": "execute_result"
    }
   ],
   "source": [
    "Cursor.execute(\n",
    "    '''   \n",
    "        INSERT INTO Minha_Tabela VALUES ( \"05/01/2021\", \"Odemir\", \"30\" )\n",
    "    '''\n",
    ")"
   ]
  },
  {
   "cell_type": "code",
   "execution_count": 7,
   "metadata": {},
   "outputs": [],
   "source": [
    "# Importar Numeros Aleatorios \n",
    "import random"
   ]
  },
  {
   "cell_type": "code",
   "execution_count": 8,
   "metadata": {},
   "outputs": [],
   "source": [
    "#random.randint(10, 20)\n",
    "\n",
    "# Loop\n",
    "for Loop in range(10):\n",
    "    # Gerando numero aleatorio\n",
    "    Numero = random.randint(10, 20)\n",
    "    # Inserir informação na minha tabela\n",
    "    Cursor.execute(\n",
    "    f'''   \n",
    "        INSERT INTO Minha_Tabela VALUES ( \"05/01/2021\", \"Teste\", {Numero} )\n",
    "    '''\n",
    "    )"
   ]
  },
  {
   "cell_type": "code",
   "execution_count": 9,
   "metadata": {},
   "outputs": [
    {
     "name": "stdout",
     "output_type": "stream",
     "text": [
      "[('01/01/2021', 'Emerson', 23.0), ('05/01/2021', 'Odemir', 30.0), ('05/01/2021', 'Odemir', 20.0), ('05/01/2021', 'Odemir', 12.0), ('05/01/2021', 'Odemir', 16.0), ('05/01/2021', 'Odemir', 18.0), ('05/01/2021', 'Odemir', 13.0), ('05/01/2021', 'Odemir', 19.0), ('05/01/2021', 'Odemir', 15.0), ('05/01/2021', 'Odemir', 11.0), ('05/01/2021', 'Odemir', 18.0), ('05/01/2021', 'Odemir', 10.0)]\n"
     ]
    }
   ],
   "source": [
    "# Query de consulta \n",
    "Consulta = Cursor.execute(\n",
    "    '''   \n",
    "       SELECT * FROM Minha_Tabela \n",
    "    '''\n",
    ").fetchall()\n",
    "\n",
    "print( Consulta )"
   ]
  },
  {
   "cell_type": "code",
   "execution_count": 10,
   "metadata": {},
   "outputs": [
    {
     "name": "stdout",
     "output_type": "stream",
     "text": [
      "('Emerson', 23.0)\n",
      "('Odemir', 30.0)\n",
      "('Odemir', 20.0)\n",
      "('Odemir', 12.0)\n",
      "('Odemir', 16.0)\n",
      "('Odemir', 18.0)\n",
      "('Odemir', 13.0)\n",
      "('Odemir', 19.0)\n",
      "('Odemir', 15.0)\n",
      "('Odemir', 11.0)\n",
      "('Odemir', 18.0)\n",
      "('Odemir', 10.0)\n"
     ]
    }
   ],
   "source": [
    "# Query de consulta - Todas as colunas\n",
    "Consulta = Cursor.execute(\n",
    "    '''   \n",
    "       SELECT Nome, Idade FROM Minha_Tabela \n",
    "    '''\n",
    ").fetchall()\n",
    "\n",
    "# Loop\n",
    "for Linha in Consulta:\n",
    "    print( Linha )"
   ]
  },
  {
   "cell_type": "code",
   "execution_count": 11,
   "metadata": {},
   "outputs": [
    {
     "name": "stdout",
     "output_type": "stream",
     "text": [
      "('Emerson',)\n",
      "('Odemir',)\n",
      "('Odemir',)\n",
      "('Odemir',)\n",
      "('Odemir',)\n",
      "('Odemir',)\n",
      "('Odemir',)\n",
      "('Odemir',)\n",
      "('Odemir',)\n",
      "('Odemir',)\n",
      "('Odemir',)\n",
      "('Odemir',)\n"
     ]
    }
   ],
   "source": [
    "# Query de consulta - colunas especificas\n",
    "Consulta = Cursor.execute(\n",
    "    '''   \n",
    "       SELECT Nome FROM Minha_Tabela \n",
    "    '''\n",
    ").fetchall()\n",
    "\n",
    "# Loop\n",
    "for Linha in Consulta:\n",
    "    print( Linha )"
   ]
  },
  {
   "cell_type": "code",
   "execution_count": 12,
   "metadata": {},
   "outputs": [
    {
     "name": "stdout",
     "output_type": "stream",
     "text": [
      "[('01/01/2021', 'Emerson', 23.0)]\n"
     ]
    }
   ],
   "source": [
    "# Query usando o igual \"=\"\n",
    "Consulta = Cursor.execute(\n",
    "    '''   \n",
    "       SELECT * FROM Minha_Tabela \n",
    "       WHERE Nome = \"Emerson\"\n",
    "    '''\n",
    ").fetchall()\n",
    "\n",
    "print( Consulta )"
   ]
  },
  {
   "cell_type": "code",
   "execution_count": 13,
   "metadata": {},
   "outputs": [
    {
     "name": "stdout",
     "output_type": "stream",
     "text": [
      "[('05/01/2021', 'Odemir', 30.0)]\n"
     ]
    }
   ],
   "source": [
    "# Query usando o maior que \">\"\n",
    "Consulta = Cursor.execute(\n",
    "    '''   \n",
    "       SELECT * FROM Minha_Tabela \n",
    "       WHERE Idade > 25\n",
    "    '''\n",
    ").fetchall()\n",
    "\n",
    "print( Consulta )"
   ]
  },
  {
   "cell_type": "code",
   "execution_count": 14,
   "metadata": {},
   "outputs": [
    {
     "name": "stdout",
     "output_type": "stream",
     "text": [
      "[('01/01/2021', 'Emerson', 23.0), ('05/01/2021', 'Odemir', 20.0), ('05/01/2021', 'Odemir', 12.0), ('05/01/2021', 'Odemir', 16.0), ('05/01/2021', 'Odemir', 18.0), ('05/01/2021', 'Odemir', 13.0), ('05/01/2021', 'Odemir', 19.0), ('05/01/2021', 'Odemir', 15.0), ('05/01/2021', 'Odemir', 11.0), ('05/01/2021', 'Odemir', 18.0), ('05/01/2021', 'Odemir', 10.0)]\n"
     ]
    }
   ],
   "source": [
    "# Query usando o menor que \"<\"\n",
    "Consulta = Cursor.execute(\n",
    "    '''   \n",
    "       SELECT * FROM Minha_Tabela \n",
    "       WHERE Idade < 25\n",
    "    '''\n",
    ").fetchall()\n",
    "\n",
    "print( Consulta )"
   ]
  },
  {
   "cell_type": "code",
   "execution_count": 15,
   "metadata": {},
   "outputs": [
    {
     "name": "stdout",
     "output_type": "stream",
     "text": [
      "[('05/01/2021', 'Odemir', 12.0), ('05/01/2021', 'Odemir', 13.0), ('05/01/2021', 'Odemir', 15.0), ('05/01/2021', 'Odemir', 11.0), ('05/01/2021', 'Odemir', 10.0)]\n"
     ]
    }
   ],
   "source": [
    "# Query usando o menor ou igual que \"<=\"\n",
    "Consulta = Cursor.execute(\n",
    "    '''   \n",
    "       SELECT * FROM Minha_Tabela \n",
    "       WHERE Idade <= 15\n",
    "    '''\n",
    ").fetchall()\n",
    "\n",
    "print( Consulta )"
   ]
  },
  {
   "cell_type": "code",
   "execution_count": 16,
   "metadata": {},
   "outputs": [
    {
     "name": "stdout",
     "output_type": "stream",
     "text": [
      "('05/01/2021', 'Odemir', 30.0)\n",
      "('05/01/2021', 'Odemir', 20.0)\n",
      "('05/01/2021', 'Odemir', 12.0)\n",
      "('05/01/2021', 'Odemir', 16.0)\n",
      "('05/01/2021', 'Odemir', 18.0)\n",
      "('05/01/2021', 'Odemir', 13.0)\n",
      "('05/01/2021', 'Odemir', 19.0)\n",
      "('05/01/2021', 'Odemir', 15.0)\n",
      "('05/01/2021', 'Odemir', 11.0)\n",
      "('05/01/2021', 'Odemir', 18.0)\n",
      "('05/01/2021', 'Odemir', 10.0)\n"
     ]
    }
   ],
   "source": [
    "# Query usando o diferente de \"<>\"\n",
    "Consulta = Cursor.execute(\n",
    "    '''   \n",
    "       SELECT * FROM Minha_Tabela \n",
    "       WHERE Nome <> \"Emerson\"\n",
    "    '''\n",
    ").fetchall()\n",
    "\n",
    "for Linha in Consulta:\n",
    "    print( Linha )"
   ]
  },
  {
   "cell_type": "code",
   "execution_count": 17,
   "metadata": {},
   "outputs": [
    {
     "name": "stdout",
     "output_type": "stream",
     "text": [
      "('05/01/2021', 'Odemir', 12.0)\n",
      "('05/01/2021', 'Odemir', 16.0)\n",
      "('05/01/2021', 'Odemir', 18.0)\n",
      "('05/01/2021', 'Odemir', 13.0)\n",
      "('05/01/2021', 'Odemir', 15.0)\n",
      "('05/01/2021', 'Odemir', 18.0)\n"
     ]
    }
   ],
   "source": [
    "# Query usando o BETWEEN\n",
    "Consulta = Cursor.execute(\n",
    "    '''   \n",
    "       SELECT * FROM Minha_Tabela \n",
    "       WHERE Idade BETWEEN 12 AND 18\n",
    "    '''\n",
    ").fetchall()\n",
    "\n",
    "for Linha in Consulta:\n",
    "    print( Linha )"
   ]
  },
  {
   "cell_type": "code",
   "execution_count": 18,
   "metadata": {},
   "outputs": [
    {
     "name": "stdout",
     "output_type": "stream",
     "text": [
      "[('01/01/2021', 'Emerson', 23.0)]\n"
     ]
    }
   ],
   "source": [
    "# Query usando o LIKE - procurando algo que comece com\n",
    "Consulta = Cursor.execute(\n",
    "    '''      \n",
    "        SELECT * FROM Minha_Tabela\n",
    "        WHERE Nome LIKE \"E%\"\n",
    "    '''\n",
    ").fetchall()\n",
    "\n",
    "print( Consulta )"
   ]
  },
  {
   "cell_type": "code",
   "execution_count": 19,
   "metadata": {},
   "outputs": [
    {
     "name": "stdout",
     "output_type": "stream",
     "text": [
      "[('05/01/2021', 'Odemir', 30.0), ('05/01/2021', 'Odemir', 20.0), ('05/01/2021', 'Odemir', 12.0), ('05/01/2021', 'Odemir', 16.0), ('05/01/2021', 'Odemir', 18.0), ('05/01/2021', 'Odemir', 13.0), ('05/01/2021', 'Odemir', 19.0), ('05/01/2021', 'Odemir', 15.0), ('05/01/2021', 'Odemir', 11.0), ('05/01/2021', 'Odemir', 18.0), ('05/01/2021', 'Odemir', 10.0)]\n"
     ]
    }
   ],
   "source": [
    "# Query usando o LIKE - procurando algo que termine com \n",
    "Consulta =  Cursor.execute(\n",
    "    '''\n",
    "        SELECT * FROM Minha_Tabela\n",
    "        WHERE Nome LIKE   \"%r\"    \n",
    "    '''\n",
    ").fetchall()\n",
    "\n",
    "print( Consulta )"
   ]
  },
  {
   "cell_type": "code",
   "execution_count": 20,
   "metadata": {},
   "outputs": [
    {
     "name": "stdout",
     "output_type": "stream",
     "text": [
      "[('05/01/2021', 'Odemir', 30.0), ('05/01/2021', 'Odemir', 20.0), ('05/01/2021', 'Odemir', 12.0), ('05/01/2021', 'Odemir', 16.0), ('05/01/2021', 'Odemir', 18.0), ('05/01/2021', 'Odemir', 13.0), ('05/01/2021', 'Odemir', 19.0), ('05/01/2021', 'Odemir', 15.0), ('05/01/2021', 'Odemir', 11.0), ('05/01/2021', 'Odemir', 18.0), ('05/01/2021', 'Odemir', 10.0)]\n"
     ]
    }
   ],
   "source": [
    "# Query usando o LIKE - procurando algo que tenha o padrão\n",
    "Consulta =  Cursor.execute(\n",
    "    '''\n",
    "        SELECT * FROM Minha_Tabela\n",
    "        WHERE Nome LIKE   \"%demir%\"    \n",
    "    '''\n",
    ").fetchall()\n",
    "\n",
    "print( Consulta )"
   ]
  },
  {
   "cell_type": "code",
   "execution_count": 21,
   "metadata": {},
   "outputs": [
    {
     "name": "stdout",
     "output_type": "stream",
     "text": [
      "[('05/01/2021', 'Odemir', 30.0), ('05/01/2021', 'Odemir', 20.0), ('05/01/2021', 'Odemir', 18.0), ('05/01/2021', 'Odemir', 18.0)]\n"
     ]
    }
   ],
   "source": [
    "# Query procurando algo usando o IN \n",
    "Consulta = Cursor.execute(\n",
    "    '''\n",
    "        SELECT * FROM Minha_Tabela\n",
    "        WHERE Idade IN (18, 20, 30) \n",
    "    '''\n",
    ").fetchall()\n",
    "\n",
    "print( Consulta )"
   ]
  },
  {
   "cell_type": "code",
   "execution_count": 22,
   "metadata": {},
   "outputs": [
    {
     "name": "stdout",
     "output_type": "stream",
     "text": [
      "[('05/01/2021', 'Odemir', 30.0), ('05/01/2021', 'Odemir', 20.0), ('05/01/2021', 'Odemir', 12.0), ('05/01/2021', 'Odemir', 16.0), ('05/01/2021', 'Odemir', 18.0), ('05/01/2021', 'Odemir', 13.0), ('05/01/2021', 'Odemir', 19.0), ('05/01/2021', 'Odemir', 15.0), ('05/01/2021', 'Odemir', 11.0), ('05/01/2021', 'Odemir', 18.0), ('05/01/2021', 'Odemir', 10.0)]\n"
     ]
    }
   ],
   "source": [
    "# Query procurando algo usando o IN \n",
    "Consulta = Cursor.execute(\n",
    "    '''\n",
    "        SELECT * FROM Minha_Tabela\n",
    "        WHERE Nome IN (\"Odemir\") \n",
    "    '''\n",
    ").fetchall()\n",
    "\n",
    "print( Consulta )"
   ]
  },
  {
   "cell_type": "code",
   "execution_count": 23,
   "metadata": {},
   "outputs": [
    {
     "name": "stdout",
     "output_type": "stream",
     "text": [
      "[('05/01/2021', 'Odemir', 20.0)]\n"
     ]
    }
   ],
   "source": [
    "# Query procurando algo usando o AND \n",
    "Consulta = Cursor.execute(\n",
    "    '''\n",
    "        SELECT * FROM Minha_Tabela\n",
    "        WHERE Idade = 20 AND Nome = \"Odemir\"\n",
    "    '''\n",
    ").fetchall()\n",
    "\n",
    "print( Consulta )"
   ]
  },
  {
   "cell_type": "code",
   "execution_count": 24,
   "metadata": {},
   "outputs": [
    {
     "name": "stdout",
     "output_type": "stream",
     "text": [
      "[('01/01/2021', 'Emerson', 23.0), ('05/01/2021', 'Odemir', 20.0)]\n"
     ]
    }
   ],
   "source": [
    "# Query procurando algo usando o OR \n",
    "Consulta = Cursor.execute(\n",
    "    '''\n",
    "        SELECT * FROM Minha_Tabela\n",
    "        WHERE Idade = 20 OR Nome = \"Emerson\"\n",
    "    '''\n",
    ").fetchall()\n",
    "\n",
    "print( Consulta )"
   ]
  },
  {
   "cell_type": "code",
   "execution_count": 25,
   "metadata": {},
   "outputs": [
    {
     "name": "stdout",
     "output_type": "stream",
     "text": [
      "[('01/01/2021', 'Emerson', 23.0)]\n"
     ]
    }
   ],
   "source": [
    "# Query procurando algo usando o NOT \n",
    "Consulta = Cursor.execute(\n",
    "    '''\n",
    "        SELECT * FROM Minha_Tabela\n",
    "        WHERE NOT Nome = \"Odemir\"\n",
    "    '''\n",
    ").fetchall()\n",
    "\n",
    "print( Consulta )"
   ]
  },
  {
   "cell_type": "code",
   "execution_count": 26,
   "metadata": {},
   "outputs": [
    {
     "name": "stdout",
     "output_type": "stream",
     "text": [
      "[('01/01/2021', 'Emerson', 23.0)]\n"
     ]
    }
   ],
   "source": [
    "# Query procurando algo usando o NOT \n",
    "Consulta = Cursor.execute(\n",
    "    '''\n",
    "        SELECT * FROM Minha_Tabela\n",
    "        WHERE NOT Nome = \"Odemir\"\n",
    "    '''\n",
    ").fetchall()\n",
    "\n",
    "print( Consulta )"
   ]
  },
  {
   "cell_type": "code",
   "execution_count": 27,
   "metadata": {},
   "outputs": [
    {
     "name": "stdout",
     "output_type": "stream",
     "text": [
      "('05/01/2021', 'Odemir', 30.0)\n",
      "('05/01/2021', 'Odemir', 20.0)\n",
      "('05/01/2021', 'Odemir', 12.0)\n",
      "('05/01/2021', 'Odemir', 16.0)\n",
      "('05/01/2021', 'Odemir', 18.0)\n",
      "('05/01/2021', 'Odemir', 13.0)\n",
      "('05/01/2021', 'Odemir', 19.0)\n",
      "('05/01/2021', 'Odemir', 11.0)\n",
      "('05/01/2021', 'Odemir', 18.0)\n",
      "('05/01/2021', 'Odemir', 10.0)\n"
     ]
    }
   ],
   "source": [
    "# Query procurando parametros AND OR NOT\n",
    "Consulta = Cursor.execute(\n",
    "    '''\n",
    "        SELECT * FROM Minha_Tabela\n",
    "        WHERE Nome = \"Odemir\" AND ( Idade > 12 OR Idade < 20 ) AND NOT Idade = 15\n",
    "    '''\n",
    ").fetchall()\n",
    "\n",
    "for Linha in Consulta: \n",
    "    print( Linha )"
   ]
  },
  {
   "cell_type": "code",
   "execution_count": 28,
   "metadata": {},
   "outputs": [
    {
     "name": "stdout",
     "output_type": "stream",
     "text": [
      "('05/01/2021', 'Odemir', 10.0)\n",
      "('05/01/2021', 'Odemir', 11.0)\n",
      "('05/01/2021', 'Odemir', 12.0)\n",
      "('05/01/2021', 'Odemir', 13.0)\n",
      "('05/01/2021', 'Odemir', 15.0)\n",
      "('05/01/2021', 'Odemir', 16.0)\n",
      "('05/01/2021', 'Odemir', 18.0)\n",
      "('05/01/2021', 'Odemir', 18.0)\n",
      "('05/01/2021', 'Odemir', 19.0)\n",
      "('05/01/2021', 'Odemir', 20.0)\n",
      "('01/01/2021', 'Emerson', 23.0)\n",
      "('05/01/2021', 'Odemir', 30.0)\n"
     ]
    }
   ],
   "source": [
    "# Ordenando os valores\n",
    "Consulta = Cursor.execute(\n",
    "    '''\n",
    "        SELECT * FROM Minha_Tabela\n",
    "        ORDER BY Idade, Nome \n",
    "    '''\n",
    ").fetchall()\n",
    "\n",
    "for Linha in Consulta: \n",
    "    print( Linha )"
   ]
  },
  {
   "cell_type": "code",
   "execution_count": 29,
   "metadata": {},
   "outputs": [
    {
     "name": "stdout",
     "output_type": "stream",
     "text": [
      "('05/01/2021', 'Odemir', 30.0)\n",
      "('01/01/2021', 'Emerson', 23.0)\n",
      "('05/01/2021', 'Odemir', 20.0)\n",
      "('05/01/2021', 'Odemir', 19.0)\n",
      "('05/01/2021', 'Odemir', 18.0)\n",
      "('05/01/2021', 'Odemir', 18.0)\n",
      "('05/01/2021', 'Odemir', 16.0)\n",
      "('05/01/2021', 'Odemir', 15.0)\n",
      "('05/01/2021', 'Odemir', 13.0)\n",
      "('05/01/2021', 'Odemir', 12.0)\n",
      "('05/01/2021', 'Odemir', 11.0)\n",
      "('05/01/2021', 'Odemir', 10.0)\n"
     ]
    }
   ],
   "source": [
    "# Ordenando os valores\n",
    "Consulta = Cursor.execute(\n",
    "    '''\n",
    "        SELECT * FROM Minha_Tabela\n",
    "        ORDER BY Idade DESC\n",
    "    '''\n",
    ").fetchall()\n",
    "\n",
    "for Linha in Consulta: \n",
    "    print( Linha )"
   ]
  },
  {
   "cell_type": "code",
   "execution_count": 30,
   "metadata": {},
   "outputs": [
    {
     "data": {
      "text/plain": [
       "<sqlite3.Cursor at 0x2bb361af240>"
      ]
     },
     "execution_count": 30,
     "metadata": {},
     "output_type": "execute_result"
    }
   ],
   "source": [
    "# Preenchenco com valores nulos\n",
    "\n",
    "Cursor.execute( \n",
    "    '''\n",
    "       INSERT INTO Minha_Tabela VALUES ( \"ABC\", null, 30)     \n",
    "    '''\n",
    ")\n",
    "\n",
    "Cursor.execute( \n",
    "    '''\n",
    "       INSERT INTO Minha_Tabela VALUES ( \"ABC\", null, null)     \n",
    "    '''\n",
    ")"
   ]
  },
  {
   "cell_type": "code",
   "execution_count": 31,
   "metadata": {},
   "outputs": [
    {
     "name": "stdout",
     "output_type": "stream",
     "text": [
      "('ABC', None, 30.0)\n",
      "('ABC', None, None)\n"
     ]
    }
   ],
   "source": [
    "# Verificando os valores nulos\n",
    "Consulta = Cursor.execute(\n",
    "    '''\n",
    "        SELECT * FROM Minha_Tabela\n",
    "        WHERE Nome IS NULL    \n",
    "    '''\n",
    ").fetchall()\n",
    "\n",
    "for Linha in Consulta:\n",
    "    print( Linha )"
   ]
  },
  {
   "cell_type": "code",
   "execution_count": 32,
   "metadata": {},
   "outputs": [
    {
     "name": "stdout",
     "output_type": "stream",
     "text": [
      "('01/01/2021', 'Emerson', 23.0)\n",
      "('05/01/2021', 'Odemir', 30.0)\n",
      "('05/01/2021', 'Odemir', 20.0)\n",
      "('05/01/2021', 'Odemir', 12.0)\n",
      "('05/01/2021', 'Odemir', 16.0)\n",
      "('05/01/2021', 'Odemir', 18.0)\n",
      "('05/01/2021', 'Odemir', 13.0)\n",
      "('05/01/2021', 'Odemir', 19.0)\n",
      "('05/01/2021', 'Odemir', 15.0)\n",
      "('05/01/2021', 'Odemir', 11.0)\n",
      "('05/01/2021', 'Odemir', 18.0)\n",
      "('05/01/2021', 'Odemir', 10.0)\n"
     ]
    }
   ],
   "source": [
    "# Verificando os valores não nulos\n",
    "Consulta = Cursor.execute(\n",
    "    '''\n",
    "        SELECT * FROM Minha_Tabela\n",
    "        WHERE Nome IS NOT NULL    \n",
    "    '''\n",
    ").fetchall()\n",
    "\n",
    "for Linha in Consulta:\n",
    "    print( Linha )"
   ]
  },
  {
   "cell_type": "code",
   "execution_count": 33,
   "metadata": {},
   "outputs": [
    {
     "name": "stdout",
     "output_type": "stream",
     "text": [
      "('01/01/2021', 'Emerson', 23.0)\n",
      "('05/01/2021', 'Odemir', 30.0)\n",
      "('05/01/2021', 'Odemir', 20.0)\n",
      "('05/01/2021', 'Odemir', 12.0)\n",
      "('05/01/2021', 'Odemir', 16.0)\n",
      "('05/01/2021', 'Odemir', 18.0)\n",
      "('05/01/2021', 'Odemir', 13.0)\n",
      "('05/01/2021', 'Odemir', 19.0)\n",
      "('05/01/2021', 'Odemir', 15.0)\n",
      "('05/01/2021', 'Odemir', 11.0)\n",
      "('05/01/2021', 'Odemir', 18.0)\n",
      "('05/01/2021', 'Odemir', 10.0)\n",
      "('ABC', None, 30.0)\n",
      "('ABC', None, None)\n"
     ]
    }
   ],
   "source": [
    "# Verificando os valores da tabela\n",
    "Consulta = Cursor.execute(\n",
    "    '''\n",
    "        SELECT * FROM Minha_Tabela \n",
    "    '''\n",
    ").fetchall()\n",
    "\n",
    "for Linha in Consulta:\n",
    "    print( Linha )"
   ]
  },
  {
   "cell_type": "code",
   "execution_count": 34,
   "metadata": {},
   "outputs": [
    {
     "name": "stdout",
     "output_type": "stream",
     "text": [
      "('01/01/2021', 'Emerson', 23.0)\n",
      "('05/01/2021', 'Odemir', 30.0)\n",
      "('05/01/2021', 'Odemir', 20.0)\n",
      "('05/01/2021', 'Odemir', 12.0)\n",
      "('05/01/2021', 'Odemir', 16.0)\n",
      "('05/01/2021', 'Odemir', 18.0)\n",
      "('05/01/2021', 'Odemir', 13.0)\n",
      "('05/01/2021', 'Odemir', 19.0)\n",
      "('05/01/2021', 'Odemir', 15.0)\n",
      "('05/01/2021', 'Odemir', 11.0)\n",
      "('05/01/2021', 'Odemir', 18.0)\n",
      "('05/01/2021', 'Odemir', 10.0)\n",
      "('ABC', 'Preenchido', 30.0)\n",
      "('ABC', 'Preenchido', None)\n"
     ]
    }
   ],
   "source": [
    "# Atualziando os valores da tabela com o UPDATE\n",
    "Consulta = Cursor.execute(\n",
    "    '''\n",
    "        UPDATE Minha_Tabela \n",
    "        SET Nome = 'Preenchido'\n",
    "        WHERE Nome IS NULL\n",
    "    '''\n",
    ").fetchall()\n",
    "\n",
    "# Verificando os valores da tabela\n",
    "Consulta = Cursor.execute(\n",
    "    '''\n",
    "        SELECT * FROM Minha_Tabela \n",
    "    '''\n",
    ").fetchall()\n",
    "\n",
    "for Linha in Consulta:\n",
    "    print( Linha )"
   ]
  },
  {
   "cell_type": "code",
   "execution_count": 35,
   "metadata": {},
   "outputs": [
    {
     "name": "stdout",
     "output_type": "stream",
     "text": [
      "('01/01/2021', 'Emerson', 23.0)\n",
      "('05/01/2021', 'Odemir', 30.0)\n",
      "('05/01/2021', 'Odemir', 20.0)\n",
      "('05/01/2021', 'Odemir', 12.0)\n",
      "('05/01/2021', 'Odemir', 16.0)\n",
      "('05/01/2021', 'Odemir', 18.0)\n",
      "('05/01/2021', 'Odemir', 13.0)\n",
      "('05/01/2021', 'Odemir', 19.0)\n",
      "('05/01/2021', 'Odemir', 15.0)\n",
      "('05/01/2021', 'Odemir', 11.0)\n",
      "('05/01/2021', 'Odemir', 18.0)\n",
      "('05/01/2021', 'Odemir', 10.0)\n",
      "('ABC', 'Preenchido', 30.0)\n",
      "('ABC', 'Preenchido', 29.0)\n"
     ]
    }
   ],
   "source": [
    "# Atualziando os valores da tabela\n",
    "Consulta = Cursor.execute(\n",
    "    '''\n",
    "        UPDATE Minha_Tabela \n",
    "        SET Idade = 29\n",
    "        WHERE Idade IS NULL\n",
    "    '''\n",
    ").fetchall()\n",
    "\n",
    "# Verificando os valores da tabela\n",
    "Consulta = Cursor.execute(\n",
    "    '''\n",
    "        SELECT * FROM Minha_Tabela \n",
    "    '''\n",
    ").fetchall()\n",
    "\n",
    "for Linha in Consulta:\n",
    "    print( Linha )"
   ]
  },
  {
   "cell_type": "code",
   "execution_count": 36,
   "metadata": {},
   "outputs": [
    {
     "name": "stdout",
     "output_type": "stream",
     "text": [
      "('01/01/2021', 'Emerson', 23.0)\n",
      "('05/01/2021', 'Odemir', 30.0)\n",
      "('05/01/2021', 'Odemir', 20.0)\n",
      "('05/01/2021', 'Odemir', 12.0)\n",
      "('05/01/2021', 'Odemir', 16.0)\n",
      "('05/01/2021', 'Odemir', 18.0)\n",
      "('05/01/2021', 'Odemir', 13.0)\n",
      "('05/01/2021', 'Odemir', 19.0)\n",
      "('05/01/2021', 'Odemir', 15.0)\n",
      "('05/01/2021', 'Odemir', 11.0)\n",
      "('05/01/2021', 'Odemir', 18.0)\n",
      "('05/01/2021', 'Odemir', 10.0)\n",
      "('07/01/2021', 'João', 30.0)\n",
      "('ABC', 'Preenchido', 29.0)\n"
     ]
    }
   ],
   "source": [
    "# Corrigindo os valores\n",
    "Consulta = Cursor.execute(\n",
    "    '''\n",
    "        UPDATE Minha_Tabela\n",
    "        SET Data = \"07/01/2021\", Nome = \"João\"\n",
    "        WHERE Data = \"ABC\" AND Idade = 30\n",
    "    '''\n",
    ").fetchall()\n",
    "\n",
    "# Verificando os valores atualizados\n",
    "Consulta = Cursor.execute(\n",
    "    '''\n",
    "        SELECT * FROM Minha_Tabela\n",
    "    '''\n",
    ").fetchall()\n",
    "\n",
    "for Linha in Consulta:\n",
    "    print(Linha)"
   ]
  },
  {
   "cell_type": "code",
   "execution_count": 37,
   "metadata": {},
   "outputs": [
    {
     "name": "stdout",
     "output_type": "stream",
     "text": [
      "('01/01/2021', 'Emerson', 23.0)\n",
      "('05/01/2021', 'Odemir', 30.0)\n",
      "('05/01/2021', 'Odemir', 20.0)\n",
      "('05/01/2021', 'Odemir', 12.0)\n",
      "('05/01/2021', 'Odemir', 16.0)\n",
      "('05/01/2021', 'Odemir', 18.0)\n",
      "('05/01/2021', 'Odemir', 13.0)\n",
      "('05/01/2021', 'Odemir', 19.0)\n",
      "('05/01/2021', 'Odemir', 15.0)\n",
      "('05/01/2021', 'Odemir', 11.0)\n",
      "('05/01/2021', 'Odemir', 18.0)\n",
      "('05/01/2021', 'Odemir', 10.0)\n",
      "('07/01/2021', 'João', 30.0)\n",
      "('08/01/2021', 'Maria', 18.0)\n"
     ]
    }
   ],
   "source": [
    "# Corrigindo os valores\n",
    "Consulta = Cursor.execute(\n",
    "    '''\n",
    "        UPDATE Minha_Tabela\n",
    "        SET Data = \"08/01/2021\", Nome = \"Maria\", Idade = 18\n",
    "        WHERE Data = \"ABC\" AND Idade = 29\n",
    "    '''\n",
    ").fetchall()\n",
    "\n",
    "# Verificando os valores atualizados\n",
    "Consulta = Cursor.execute(\n",
    "    '''\n",
    "        SELECT * FROM Minha_Tabela\n",
    "    '''\n",
    ").fetchall()\n",
    "\n",
    "for Linha in Consulta:\n",
    "    print(Linha)"
   ]
  },
  {
   "cell_type": "code",
   "execution_count": 38,
   "metadata": {},
   "outputs": [
    {
     "name": "stdout",
     "output_type": "stream",
     "text": [
      "('01/01/2021', 'Emerson', 23.0)\n",
      "('05/01/2021', 'Odemir', 30.0)\n",
      "('05/01/2021', 'Odemir', 20.0)\n",
      "('08/01/2021', 'Pedro', 12.0)\n",
      "('05/01/2021', 'Odemir', 16.0)\n",
      "('05/01/2021', 'Odemir', 18.0)\n",
      "('05/01/2021', 'Odemir', 13.0)\n",
      "('05/01/2021', 'Odemir', 19.0)\n",
      "('05/01/2021', 'Odemir', 15.0)\n",
      "('05/01/2021', 'Odemir', 11.0)\n",
      "('05/01/2021', 'Odemir', 18.0)\n",
      "('05/01/2021', 'Odemir', 10.0)\n",
      "('07/01/2021', 'João', 30.0)\n",
      "('08/01/2021', 'Maria', 18.0)\n"
     ]
    }
   ],
   "source": [
    "# Corrigindo os valores\n",
    "Consulta = Cursor.execute(\n",
    "    '''\n",
    "        UPDATE Minha_Tabela\n",
    "        SET Data = \"08/01/2021\", Nome = \"Pedro\"\n",
    "        WHERE Data = \"05/01/2021\" AND Idade = 12\n",
    "    '''\n",
    ").fetchall()\n",
    "\n",
    "# Verificando os valores atualizados\n",
    "Consulta = Cursor.execute(\n",
    "    '''\n",
    "        SELECT * FROM Minha_Tabela\n",
    "    '''\n",
    ").fetchall()\n",
    "\n",
    "for Linha in Consulta:\n",
    "    print(Linha)"
   ]
  },
  {
   "cell_type": "code",
   "execution_count": 39,
   "metadata": {},
   "outputs": [
    {
     "name": "stdout",
     "output_type": "stream",
     "text": [
      "('01/01/2021', 'Emerson', 23.0)\n",
      "('05/01/2021', 'Odemir', 30.0)\n",
      "('05/01/2021', 'Odemir', 20.0)\n",
      "('08/01/2021', 'Pedro', 12.0)\n",
      "('05/01/2021', 'Odemir', 16.0)\n",
      "('05/01/2021', 'Odemir', 18.0)\n",
      "('05/01/2021', 'Odemir', 13.0)\n",
      "('05/01/2021', 'Odemir', 19.0)\n",
      "('05/01/2021', 'Odemir', 15.0)\n",
      "('05/01/2021', 'Odemir', 11.0)\n",
      "('05/01/2021', 'Odemir', 18.0)\n",
      "('07/01/2021', 'João', 30.0)\n",
      "('08/01/2021', 'Maria', 18.0)\n"
     ]
    }
   ],
   "source": [
    "# Usando o DELETE\n",
    "Consulta = Cursor.execute(\n",
    "    '''    \n",
    "        DELETE FROM Minha_Tabela\n",
    "        WHERE Nome = \"Odemir\" AND Idade = 10\n",
    "    '''\n",
    ").fetchall()\n",
    "\n",
    "# Verificando os valores atualizados\n",
    "Consulta = Cursor.execute(\n",
    "    '''\n",
    "        SELECT * FROM Minha_Tabela\n",
    "    '''\n",
    ").fetchall()\n",
    "\n",
    "for Linha in Consulta:\n",
    "    print(Linha)"
   ]
  },
  {
   "cell_type": "code",
   "execution_count": 40,
   "metadata": {},
   "outputs": [
    {
     "name": "stdout",
     "output_type": "stream",
     "text": [
      "('01/01/2021', 'Emerson', 23.0)\n",
      "('05/01/2021', 'Odemir', 30.0)\n",
      "('05/01/2021', 'Odemir', 20.0)\n",
      "('08/01/2021', 'Pedro', 12.0)\n",
      "('05/01/2021', 'Odemir', 16.0)\n",
      "('05/01/2021', 'Odemir', 18.0)\n",
      "('05/01/2021', 'Odemir', 13.0)\n",
      "('05/01/2021', 'Odemir', 19.0)\n",
      "('05/01/2021', 'Odemir', 15.0)\n",
      "('05/01/2021', 'Odemir', 18.0)\n",
      "('07/01/2021', 'João', 30.0)\n",
      "('08/01/2021', 'Maria', 18.0)\n"
     ]
    }
   ],
   "source": [
    "# Usando o DELETE\n",
    "Consulta = Cursor.execute(\n",
    "    '''    \n",
    "        DELETE FROM Minha_Tabela\n",
    "        WHERE Nome = \"Odemir\" AND Idade = 11\n",
    "    '''\n",
    ").fetchall()\n",
    "\n",
    "# Verificando os valores atualizados\n",
    "Consulta = Cursor.execute(\n",
    "    '''\n",
    "        SELECT * FROM Minha_Tabela\n",
    "    '''\n",
    ").fetchall()\n",
    "\n",
    "for Linha in Consulta:\n",
    "    print(Linha)"
   ]
  },
  {
   "cell_type": "code",
   "execution_count": 43,
   "metadata": {},
   "outputs": [
    {
     "name": "stdout",
     "output_type": "stream",
     "text": [
      "[('Minha_Tabela',)]\n"
     ]
    }
   ],
   "source": [
    "# Listando as tabelas\n",
    "Consulta = Cursor.execute(\n",
    "    '''  \n",
    "        SELECT name FROM sqlite_master WHERE type='table';\n",
    "    '''\n",
    ").fetchall()\n",
    "\n",
    "print( Consulta )"
   ]
  },
  {
   "cell_type": "code",
   "execution_count": 46,
   "metadata": {},
   "outputs": [
    {
     "ename": "OperationalError",
     "evalue": "table Minha_Tabela_Teste already exists",
     "output_type": "error",
     "traceback": [
      "\u001b[1;31m---------------------------------------------------------------------------\u001b[0m",
      "\u001b[1;31mOperationalError\u001b[0m                          Traceback (most recent call last)",
      "Cell \u001b[1;32mIn[46], line 1\u001b[0m\n\u001b[1;32m----> 1\u001b[0m Consulta \u001b[38;5;241m=\u001b[39m Cursor\u001b[38;5;241m.\u001b[39mexecute(\n\u001b[0;32m      2\u001b[0m \u001b[38;5;250m    \u001b[39m\u001b[38;5;124;03m'''  \u001b[39;00m\n\u001b[0;32m      3\u001b[0m \u001b[38;5;124;03m        CREATE TABLE Minha_Tabela_Teste( Data text, Nome text, Idade real, Telefone text)\u001b[39;00m\n\u001b[0;32m      4\u001b[0m \u001b[38;5;124;03m    '''\u001b[39;00m\n\u001b[0;32m      5\u001b[0m )\u001b[38;5;241m.\u001b[39mfetchall()\n",
      "\u001b[1;31mOperationalError\u001b[0m: table Minha_Tabela_Teste already exists"
     ]
    }
   ],
   "source": [
    "# Criando uma outra tabela\n",
    "Consulta = Cursor.execute(\n",
    "    '''  \n",
    "        CREATE TABLE Minha_Tabela_Teste( Data text, Nome text, Idade real, Telefone text)\n",
    "    '''\n",
    ").fetchall()"
   ]
  },
  {
   "cell_type": "code",
   "execution_count": 47,
   "metadata": {},
   "outputs": [
    {
     "name": "stdout",
     "output_type": "stream",
     "text": [
      "[('Minha_Tabela',), ('Minha_Tabela_Teste',)]\n"
     ]
    }
   ],
   "source": [
    "# Listando as tabelas\n",
    "Consulta = Cursor.execute(\n",
    "    '''  \n",
    "        SELECT name FROM sqlite_master WHERE type='table';\n",
    "    '''\n",
    ").fetchall()\n",
    "\n",
    "print( Consulta )"
   ]
  },
  {
   "cell_type": "code",
   "execution_count": 52,
   "metadata": {},
   "outputs": [],
   "source": [
    "#random.randint(10, 20)\n",
    "\n",
    "# Loop\n",
    "for Loop in range(10):\n",
    "    # Gerando numero aleatorio\n",
    "    Numero = random.randint(10, 20)\n",
    "    # Inserir informação na minha tabela\n",
    "    Cursor.execute(\n",
    "    f'''   \n",
    "        INSERT INTO Minha_Tabela_Teste VALUES ( \"05/01/2021\", \"Teste\", {Numero}, \"99987654321\" )\n",
    "    '''\n",
    "    )"
   ]
  },
  {
   "cell_type": "code",
   "execution_count": 54,
   "metadata": {},
   "outputs": [
    {
     "name": "stdout",
     "output_type": "stream",
     "text": [
      "('05/01/2021', 'Teste', 13.0, '99987654321')\n",
      "('05/01/2021', 'Teste', 14.0, '99987654321')\n",
      "('05/01/2021', 'Teste', 11.0, '99987654321')\n",
      "('05/01/2021', 'Teste', 11.0, '99987654321')\n",
      "('05/01/2021', 'Teste', 17.0, '99987654321')\n",
      "('05/01/2021', 'Teste', 15.0, '99987654321')\n",
      "('05/01/2021', 'Teste', 17.0, '99987654321')\n",
      "('05/01/2021', 'Teste', 16.0, '99987654321')\n",
      "('05/01/2021', 'Teste', 18.0, '99987654321')\n",
      "('05/01/2021', 'Teste', 16.0, '99987654321')\n"
     ]
    }
   ],
   "source": [
    "# Verificando os valores \n",
    "Consulta = Cursor.execute(\n",
    "    '''\n",
    "        SELECT * FROM Minha_Tabela_Teste\n",
    "    '''\n",
    ").fetchall()\n",
    "\n",
    "for Linha in Consulta:\n",
    "    print(Linha)"
   ]
  },
  {
   "cell_type": "code",
   "execution_count": 55,
   "metadata": {},
   "outputs": [],
   "source": [
    "# Remove todos os registros de uma tabela\n",
    "Consulta = Cursor.execute(\n",
    "    '''    \n",
    "        DELETE FROM Minha_Tabela_Teste\n",
    "    '''\n",
    ").fetchall()"
   ]
  },
  {
   "cell_type": "code",
   "execution_count": 57,
   "metadata": {},
   "outputs": [],
   "source": [
    "# Verificando os valores atualizados\n",
    "Consulta = Cursor.execute(\n",
    "    '''\n",
    "        SELECT * FROM Minha_Tabela_Teste\n",
    "    '''\n",
    ").fetchall()\n",
    "\n",
    "for Linha in Consulta:\n",
    "    print(Linha)"
   ]
  },
  {
   "cell_type": "code",
   "execution_count": 51,
   "metadata": {},
   "outputs": [
    {
     "name": "stdout",
     "output_type": "stream",
     "text": [
      "[('Minha_Tabela',), ('Minha_Tabela_Teste',)]\n"
     ]
    }
   ],
   "source": [
    "# Listando as tabelas\n",
    "Consulta = Cursor.execute(\n",
    "    '''  \n",
    "        SELECT name FROM sqlite_master WHERE type='table';\n",
    "    '''\n",
    ").fetchall()\n",
    "\n",
    "print( Consulta )"
   ]
  },
  {
   "cell_type": "code",
   "execution_count": 62,
   "metadata": {},
   "outputs": [
    {
     "name": "stdout",
     "output_type": "stream",
     "text": [
      "('01/01/2021', 'Emerson', 23.0)\n",
      "('05/01/2021', 'Odemir', 30.0)\n",
      "('05/01/2021', 'Odemir', 20.0)\n"
     ]
    }
   ],
   "source": [
    "# Verificando valores limitados\n",
    "\n",
    "Consulta = Cursor.execute(\n",
    "    '''\n",
    "        SELECT * FROM Minha_Tabela\n",
    "        LIMIT 3\n",
    "    '''\n",
    ").fetchall()\n",
    "\n",
    "# Mostrando o retorno\n",
    "for Linha in Consulta:\n",
    "    print( Linha )"
   ]
  },
  {
   "cell_type": "code",
   "execution_count": 64,
   "metadata": {},
   "outputs": [
    {
     "name": "stdout",
     "output_type": "stream",
     "text": [
      "[(12.0,)]\n"
     ]
    }
   ],
   "source": [
    "# Função MIN\n",
    "\n",
    "Consulta = Cursor.execute(\n",
    "    '''\n",
    "        SELECT MIN ( Idade ) FROM Minha_Tabela\n",
    "    '''\n",
    ").fetchall()\n",
    "\n",
    "\n",
    "print( Consulta )"
   ]
  },
  {
   "cell_type": "code",
   "execution_count": 65,
   "metadata": {},
   "outputs": [
    {
     "name": "stdout",
     "output_type": "stream",
     "text": [
      "[(30.0,)]\n"
     ]
    }
   ],
   "source": [
    "# Função MAX\n",
    "\n",
    "Consulta = Cursor.execute(\n",
    "    '''\n",
    "        SELECT MAX ( Idade ) FROM Minha_Tabela\n",
    "    '''\n",
    ").fetchall()\n",
    "\n",
    "print( Consulta )"
   ]
  },
  {
   "cell_type": "code",
   "execution_count": 66,
   "metadata": {},
   "outputs": [
    {
     "name": "stdout",
     "output_type": "stream",
     "text": [
      "[(12,)]\n"
     ]
    }
   ],
   "source": [
    "# Função COUNT\n",
    "\n",
    "Consulta = Cursor.execute(\n",
    "    '''\n",
    "        SELECT COUNT ( Idade ) FROM Minha_Tabela\n",
    "    '''\n",
    ").fetchall()\n",
    "\n",
    "print( Consulta )"
   ]
  },
  {
   "cell_type": "code",
   "execution_count": 67,
   "metadata": {},
   "outputs": [
    {
     "name": "stdout",
     "output_type": "stream",
     "text": [
      "[(19.333333333333332,)]\n"
     ]
    }
   ],
   "source": [
    "# Função AVG\n",
    "\n",
    "Consulta = Cursor.execute(\n",
    "    '''\n",
    "        SELECT AVG ( Idade ) FROM Minha_Tabela\n",
    "    '''\n",
    ").fetchall()\n",
    "\n",
    "print( Consulta )"
   ]
  },
  {
   "cell_type": "code",
   "execution_count": 68,
   "metadata": {},
   "outputs": [
    {
     "name": "stdout",
     "output_type": "stream",
     "text": [
      "[(232.0,)]\n"
     ]
    }
   ],
   "source": [
    "# Função SUM\n",
    "\n",
    "Consulta = Cursor.execute(\n",
    "    '''\n",
    "        SELECT SUM ( Idade ) FROM Minha_Tabela\n",
    "    '''\n",
    ").fetchall()\n",
    "\n",
    "print( Consulta )"
   ]
  },
  {
   "cell_type": "code",
   "execution_count": 69,
   "metadata": {},
   "outputs": [
    {
     "name": "stdout",
     "output_type": "stream",
     "text": [
      "[(23.0,), (30.0,), (20.0,), (12.0,), (16.0,), (18.0,), (13.0,), (19.0,), (15.0,), (18.0,), (30.0,), (18.0,)]\n"
     ]
    }
   ],
   "source": [
    "# Comando ALIASES\n",
    "\n",
    "Consulta = Cursor.execute(\n",
    "    '''\n",
    "        SELECT Idade AS Consulta_01 FROM Minha_Tabela\n",
    "\n",
    "    '''\n",
    ").fetchall()\n",
    "\n",
    "print( Consulta )"
   ]
  },
  {
   "cell_type": "code",
   "execution_count": 70,
   "metadata": {},
   "outputs": [],
   "source": [
    "# Criando a tabela\n",
    "\n",
    "\n",
    "# Id do vendedor e valor de venda \n",
    "Consulta = Cursor.execute(\n",
    "    '''\n",
    "        CREATE TABLE Tab_Vendas(id real, valor real)\n",
    "    '''\n",
    ")\n",
    "\n",
    "Conexao.commit()"
   ]
  },
  {
   "cell_type": "code",
   "execution_count": 71,
   "metadata": {},
   "outputs": [],
   "source": [
    "# Criando a tabela\n",
    "\n",
    "# Dados cadastrais dos vendedores \n",
    "Consulta = Cursor.execute(\n",
    "    '''\n",
    "        CREATE TABLE Tab_Cadastro_Vendedor(id real, nome text)\n",
    "    '''\n",
    ")\n",
    "\n",
    "Conexao.commit()"
   ]
  },
  {
   "cell_type": "code",
   "execution_count": 73,
   "metadata": {},
   "outputs": [
    {
     "data": {
      "text/plain": [
       "<sqlite3.Cursor at 0x2bb361af240>"
      ]
     },
     "execution_count": 73,
     "metadata": {},
     "output_type": "execute_result"
    }
   ],
   "source": [
    "# Vendas dos vendedores\n",
    "Cursor.execute( 'INSERT INTO Tab_Vendas VALUES (1, 100) ')\n",
    "Cursor.execute( 'INSERT INTO Tab_Vendas VALUES (1, 200) ')\n",
    "Cursor.execute( 'INSERT INTO Tab_Vendas VALUES (1, 150) ')\n",
    "\n",
    "Cursor.execute( 'INSERT INTO Tab_Vendas VALUES (2, 50) ')\n",
    "Cursor.execute( 'INSERT INTO Tab_Vendas VALUES (2, 200) ')\n",
    "Cursor.execute( 'INSERT INTO Tab_Vendas VALUES (2, 900) ')"
   ]
  },
  {
   "cell_type": "code",
   "execution_count": 74,
   "metadata": {},
   "outputs": [
    {
     "data": {
      "text/plain": [
       "<sqlite3.Cursor at 0x2bb361af240>"
      ]
     },
     "execution_count": 74,
     "metadata": {},
     "output_type": "execute_result"
    }
   ],
   "source": [
    "Cursor.execute( 'INSERT INTO Tab_Cadastro_Vendedor VALUES(1, \"Odemir Depieri Jr\")' )\n",
    "Cursor.execute( 'INSERT INTO Tab_Cadastro_Vendedor VALUES(2, \"Emerson Martins\")' )"
   ]
  },
  {
   "cell_type": "code",
   "execution_count": 76,
   "metadata": {},
   "outputs": [
    {
     "name": "stdout",
     "output_type": "stream",
     "text": [
      "(1.0, 100.0)\n",
      "(1.0, 200.0)\n",
      "(1.0, 150.0)\n",
      "(2.0, 50.0)\n",
      "(2.0, 200.0)\n",
      "(2.0, 900.0)\n"
     ]
    }
   ],
   "source": [
    "# Verificando\n",
    "Consulta = Cursor.execute(\n",
    "    '''    \n",
    "        SELECT * FROM Tab_Vendas\n",
    "    '''\n",
    ").fetchall()\n",
    "\n",
    "for Linha in Consulta:\n",
    "    print( Linha )"
   ]
  },
  {
   "cell_type": "code",
   "execution_count": 77,
   "metadata": {},
   "outputs": [
    {
     "name": "stdout",
     "output_type": "stream",
     "text": [
      "(1.0, 'Odemir Depieri Jr')\n",
      "(2.0, 'Emerson Martins')\n"
     ]
    }
   ],
   "source": [
    "# Verificando\n",
    "Consulta = Cursor.execute(\n",
    "    '''    \n",
    "        SELECT * FROM Tab_Cadastro_Vendedor\n",
    "    '''\n",
    ").fetchall()\n",
    "\n",
    "for Linha in Consulta:\n",
    "    print( Linha )"
   ]
  },
  {
   "cell_type": "code",
   "execution_count": 78,
   "metadata": {},
   "outputs": [
    {
     "name": "stdout",
     "output_type": "stream",
     "text": [
      "(1.0, 100.0, 1.0, 'Odemir Depieri Jr')\n",
      "(1.0, 200.0, 1.0, 'Odemir Depieri Jr')\n",
      "(1.0, 150.0, 1.0, 'Odemir Depieri Jr')\n",
      "(2.0, 50.0, 2.0, 'Emerson Martins')\n",
      "(2.0, 200.0, 2.0, 'Emerson Martins')\n",
      "(2.0, 900.0, 2.0, 'Emerson Martins')\n"
     ]
    }
   ],
   "source": [
    "# Verificando\n",
    "Consulta = Cursor.execute(\n",
    "    '''    \n",
    "        SELECT * FROM Tab_Vendas\n",
    "        INNER JOIN Tab_Cadastro_Vendedor\n",
    "        ON Tab_Vendas.id = Tab_Cadastro_Vendedor.id\n",
    "    '''\n",
    ").fetchall()\n",
    "\n",
    "for Linha in Consulta:\n",
    "    print( Linha )"
   ]
  },
  {
   "cell_type": "code",
   "execution_count": 79,
   "metadata": {},
   "outputs": [
    {
     "data": {
      "text/plain": [
       "<sqlite3.Cursor at 0x2bb361af240>"
      ]
     },
     "execution_count": 79,
     "metadata": {},
     "output_type": "execute_result"
    }
   ],
   "source": [
    "Cursor.execute( 'INSERT INTO Tab_Vendas VALUES (3, 9999) ')"
   ]
  },
  {
   "cell_type": "code",
   "execution_count": 80,
   "metadata": {},
   "outputs": [
    {
     "name": "stdout",
     "output_type": "stream",
     "text": [
      "(1.0, 100.0, 1.0, 'Odemir Depieri Jr')\n",
      "(1.0, 200.0, 1.0, 'Odemir Depieri Jr')\n",
      "(1.0, 150.0, 1.0, 'Odemir Depieri Jr')\n",
      "(2.0, 50.0, 2.0, 'Emerson Martins')\n",
      "(2.0, 200.0, 2.0, 'Emerson Martins')\n",
      "(2.0, 900.0, 2.0, 'Emerson Martins')\n"
     ]
    }
   ],
   "source": [
    "# Verificando\n",
    "Consulta = Cursor.execute(\n",
    "    '''    \n",
    "        SELECT * FROM Tab_Vendas\n",
    "        INNER JOIN Tab_Cadastro_Vendedor\n",
    "        ON Tab_Vendas.id = Tab_Cadastro_Vendedor.id\n",
    "    '''\n",
    ").fetchall()\n",
    "\n",
    "for Linha in Consulta:\n",
    "    print( Linha )"
   ]
  },
  {
   "cell_type": "code",
   "execution_count": 81,
   "metadata": {},
   "outputs": [
    {
     "name": "stdout",
     "output_type": "stream",
     "text": [
      "(1.0, 100.0, 1.0, 'Odemir Depieri Jr')\n",
      "(1.0, 200.0, 1.0, 'Odemir Depieri Jr')\n",
      "(1.0, 150.0, 1.0, 'Odemir Depieri Jr')\n",
      "(2.0, 50.0, 2.0, 'Emerson Martins')\n",
      "(2.0, 200.0, 2.0, 'Emerson Martins')\n",
      "(2.0, 900.0, 2.0, 'Emerson Martins')\n",
      "(3.0, 9999.0, None, None)\n"
     ]
    }
   ],
   "source": [
    "# Verificando\n",
    "Consulta = Cursor.execute(\n",
    "    '''    \n",
    "        SELECT * FROM Tab_Vendas\n",
    "        LEFT JOIN Tab_Cadastro_Vendedor\n",
    "        ON Tab_Vendas.id = Tab_Cadastro_Vendedor.id\n",
    "    '''\n",
    ").fetchall()\n",
    "\n",
    "for Linha in Consulta:\n",
    "    print( Linha )"
   ]
  },
  {
   "cell_type": "code",
   "execution_count": 82,
   "metadata": {},
   "outputs": [],
   "source": [
    "# Criar tabelas\n",
    "Cursor.execute( ' CREATE TABLE Tabela_X (Id real, Nome text)' )\n",
    "Conexao.commit()\n",
    "\n",
    "Cursor.execute( ' CREATE TABLE Tabela_Y (Id real, Nome text)' )\n",
    "Conexao.commit()"
   ]
  },
  {
   "cell_type": "code",
   "execution_count": 83,
   "metadata": {},
   "outputs": [
    {
     "data": {
      "text/plain": [
       "<sqlite3.Cursor at 0x2bb361af240>"
      ]
     },
     "execution_count": 83,
     "metadata": {},
     "output_type": "execute_result"
    }
   ],
   "source": [
    "# Inserir valores\n",
    "Cursor.execute('INSERT INTO Tabela_X VALUES( 1, \"Emerson\")')\n",
    "Cursor.execute('INSERT INTO Tabela_X VALUES( 2, \"Odemir\")')\n",
    "Cursor.execute('INSERT INTO Tabela_X VALUES( 3, \"Maria\")')\n",
    "\n",
    "# Inserir valores\n",
    "Cursor.execute('INSERT INTO Tabela_Y VALUES( 1, \"Mario\")')\n",
    "Cursor.execute('INSERT INTO Tabela_Y VALUES( 2, \"Luigi\")')\n",
    "Cursor.execute('INSERT INTO Tabela_Y VALUES( 3, \"Peach\")')"
   ]
  },
  {
   "cell_type": "code",
   "execution_count": 84,
   "metadata": {},
   "outputs": [
    {
     "name": "stdout",
     "output_type": "stream",
     "text": [
      "[(1.0, 'Emerson'), (2.0, 'Odemir'), (3.0, 'Maria')]\n"
     ]
    }
   ],
   "source": [
    "# Consulta\n",
    "Consulta = Cursor.execute(\n",
    "    '''\n",
    "        SELECT * FROM Tabela_X\n",
    "    '''\n",
    ").fetchall()\n",
    "\n",
    "print( Consulta )"
   ]
  },
  {
   "cell_type": "code",
   "execution_count": 85,
   "metadata": {},
   "outputs": [
    {
     "name": "stdout",
     "output_type": "stream",
     "text": [
      "[(1.0, 'Mario'), (2.0, 'Luigi'), (3.0, 'Peach')]\n"
     ]
    }
   ],
   "source": [
    "# Consulta\n",
    "Consulta = Cursor.execute(\n",
    "    '''\n",
    "        SELECT * FROM Tabela_Y\n",
    "    '''\n",
    ").fetchall()\n",
    "\n",
    "print( Consulta )"
   ]
  },
  {
   "cell_type": "code",
   "execution_count": 86,
   "metadata": {},
   "outputs": [
    {
     "name": "stdout",
     "output_type": "stream",
     "text": [
      "(1.0, 'Emerson')\n",
      "(2.0, 'Odemir')\n",
      "(3.0, 'Maria')\n",
      "(1.0, 'Mario')\n",
      "(2.0, 'Luigi')\n",
      "(3.0, 'Peach')\n"
     ]
    }
   ],
   "source": [
    "# Consulta\n",
    "Consulta = Cursor.execute(\n",
    "    '''\n",
    "        SELECT * FROM Tabela_X\n",
    "        UNION ALL\n",
    "        SELECT * FROM Tabela_Y\n",
    "    '''\n",
    ").fetchall()\n",
    "\n",
    "\n",
    "for Linha in Consulta: \n",
    "    print( Linha )"
   ]
  },
  {
   "cell_type": "code",
   "execution_count": 87,
   "metadata": {},
   "outputs": [
    {
     "name": "stdout",
     "output_type": "stream",
     "text": [
      "('01/01/2021', 'Emerson', 23.0)\n",
      "('05/01/2021', 'Odemir', 30.0)\n",
      "('05/01/2021', 'Odemir', 20.0)\n",
      "('08/01/2021', 'Pedro', 12.0)\n",
      "('05/01/2021', 'Odemir', 16.0)\n",
      "('05/01/2021', 'Odemir', 18.0)\n",
      "('05/01/2021', 'Odemir', 13.0)\n",
      "('05/01/2021', 'Odemir', 19.0)\n",
      "('05/01/2021', 'Odemir', 15.0)\n",
      "('05/01/2021', 'Odemir', 18.0)\n",
      "('07/01/2021', 'João', 30.0)\n",
      "('08/01/2021', 'Maria', 18.0)\n"
     ]
    }
   ],
   "source": [
    "# Consulta\n",
    "Consulta = Cursor.execute(\n",
    "    '''\n",
    "        SELECT * FROM Minha_Tabela\n",
    "    '''\n",
    ").fetchall()\n",
    "\n",
    "\n",
    "for Linha in Consulta: \n",
    "    print( Linha )"
   ]
  },
  {
   "cell_type": "code",
   "execution_count": 93,
   "metadata": {},
   "outputs": [
    {
     "name": "stdout",
     "output_type": "stream",
     "text": [
      "[(149.0,)]\n"
     ]
    }
   ],
   "source": [
    "# Consulta\n",
    "Consulta = Cursor.execute(\n",
    "    '''\n",
    "        SELECT SUM (Idade)  FROM Minha_Tabela\n",
    "        WHERE Nome = \"Odemir\"\n",
    "        GROUP BY Nome\n",
    "    '''\n",
    ").fetchall()\n",
    "\n",
    "\n",
    "\n",
    "print( Consulta )"
   ]
  },
  {
   "cell_type": "code",
   "execution_count": 95,
   "metadata": {},
   "outputs": [
    {
     "name": "stdout",
     "output_type": "stream",
     "text": [
      "[(1,), (1,), (1,), (8,), (1,)]\n"
     ]
    }
   ],
   "source": [
    "# Consulta\n",
    "Consulta = Cursor.execute(\n",
    "    '''\n",
    "        SELECT COUNT (Idade)  FROM Minha_Tabela\n",
    "        GROUP BY Nome\n",
    "    '''\n",
    ").fetchall()\n",
    "\n",
    "\n",
    "\n",
    "print( Consulta )"
   ]
  },
  {
   "cell_type": "code",
   "execution_count": 96,
   "metadata": {},
   "outputs": [
    {
     "name": "stdout",
     "output_type": "stream",
     "text": [
      "[(23.0,), (30.0,), (18.0,), (30.0,), (12.0,)]\n"
     ]
    }
   ],
   "source": [
    "# Consulta\n",
    "Consulta = Cursor.execute(\n",
    "    '''\n",
    "        SELECT MAX (Idade)  FROM Minha_Tabela\n",
    "        GROUP BY Nome\n",
    "    '''\n",
    ").fetchall()\n",
    "\n",
    "\n",
    "\n",
    "print( Consulta )"
   ]
  },
  {
   "cell_type": "code",
   "execution_count": 97,
   "metadata": {},
   "outputs": [
    {
     "name": "stdout",
     "output_type": "stream",
     "text": [
      "[(23.0,), (30.0,), (18.0,), (13.0,), (12.0,)]\n"
     ]
    }
   ],
   "source": [
    "# Consulta\n",
    "Consulta = Cursor.execute(\n",
    "    '''\n",
    "        SELECT MIN (Idade)  FROM Minha_Tabela\n",
    "        GROUP BY Nome\n",
    "    '''\n",
    ").fetchall()\n",
    "\n",
    "\n",
    "\n",
    "print( Consulta )"
   ]
  },
  {
   "cell_type": "code",
   "execution_count": 98,
   "metadata": {},
   "outputs": [
    {
     "name": "stdout",
     "output_type": "stream",
     "text": [
      "[(23.0,), (30.0,), (18.0,), (18.625,), (12.0,)]\n"
     ]
    }
   ],
   "source": [
    "# Consulta\n",
    "Consulta = Cursor.execute(\n",
    "    '''\n",
    "        SELECT AVG (Idade)  FROM Minha_Tabela\n",
    "        GROUP BY Nome\n",
    "    '''\n",
    ").fetchall()\n",
    "\n",
    "print( Consulta )"
   ]
  },
  {
   "cell_type": "code",
   "execution_count": 100,
   "metadata": {},
   "outputs": [
    {
     "name": "stdout",
     "output_type": "stream",
     "text": [
      "[('01/01/2021', 'Emerson', 23.0), ('05/01/2021', 'Odemir', 30.0), ('05/01/2021', 'Odemir', 20.0), ('08/01/2021', 'Pedro', 12.0), ('05/01/2021', 'Odemir', 16.0), ('05/01/2021', 'Odemir', 18.0), ('05/01/2021', 'Odemir', 13.0), ('05/01/2021', 'Odemir', 19.0), ('05/01/2021', 'Odemir', 15.0), ('05/01/2021', 'Odemir', 18.0), ('07/01/2021', 'João', 30.0), ('08/01/2021', 'Maria', 18.0)]\n"
     ]
    }
   ],
   "source": [
    "# Consulta\n",
    "Consulta = Cursor.execute(\n",
    "    '''\n",
    "        -- Selecionando a tabela x\n",
    "        SELECT * FROM Minha_Tabela\n",
    "        -- Filtrando os dados x\n",
    "    '''\n",
    ").fetchall()\n",
    "\n",
    "print( Consulta )"
   ]
  },
  {
   "cell_type": "code",
   "execution_count": 107,
   "metadata": {},
   "outputs": [],
   "source": [
    "Query = '''\n",
    "            CREATE TABLE IF NOT EXISTS  Clientes (\n",
    "                ID int NOT NULL,\n",
    "                Nome varchar(255) NOT NULL,\n",
    "                Sobrenome varchar(255),\n",
    "                Idade int,\n",
    "                PRIMARY KEY (ID)\n",
    "            )\n",
    "        '''"
   ]
  },
  {
   "cell_type": "code",
   "execution_count": 108,
   "metadata": {},
   "outputs": [],
   "source": [
    "# Fazendo consulta\n",
    "\n",
    "Consulta = Cursor.execute( Query )\n",
    "\n",
    "# Salvar as alterações \n",
    "Conexao.commit()"
   ]
  },
  {
   "cell_type": "code",
   "execution_count": 109,
   "metadata": {},
   "outputs": [
    {
     "data": {
      "text/plain": [
       "[(1, 'Odemir', 'Depieri', 30)]"
      ]
     },
     "execution_count": 109,
     "metadata": {},
     "output_type": "execute_result"
    }
   ],
   "source": [
    "# Inserindo valores\n",
    "Cursor.execute(\"INSERT INTO Clientes VALUES (1, 'Odemir', 'Depieri',  30)\")\n",
    "\n",
    "# Fazendo consulta\n",
    "Cursor.execute( \"SELECT * FROM Clientes\").fetchall()\n"
   ]
  },
  {
   "cell_type": "code",
   "execution_count": 110,
   "metadata": {},
   "outputs": [
    {
     "data": {
      "text/plain": [
       "[(1, 'Odemir', 'Depieri', 30), (2, 'Ronisson', 'Lucas', 30)]"
      ]
     },
     "execution_count": 110,
     "metadata": {},
     "output_type": "execute_result"
    }
   ],
   "source": [
    "Cursor.execute(\"INSERT INTO Clientes VALUES (2, 'Ronisson', 'Lucas',  30)\")\n",
    "\n",
    "# Fazendo consulta\n",
    "Cursor.execute( \"SELECT * FROM Clientes\").fetchall()"
   ]
  },
  {
   "cell_type": "code",
   "execution_count": 111,
   "metadata": {},
   "outputs": [],
   "source": [
    "Query = '''\n",
    "CREATE TABLE Servicos (\n",
    "    ID int NOT NULL,\n",
    "    Numero int NOT NULL,\n",
    "    IDCliente int,\n",
    "    PRIMARY KEY (ID),\n",
    "    FOREIGN KEY (IDCliente) REFERENCES Persons(IDCliente)\n",
    ")\n",
    "'''\n",
    "\n",
    "# Fazendo consulta\n",
    "Consulta = Cursor.execute( Query )\n",
    "\n",
    "# Salvar as alterações no banco de dados\n",
    "Conexao.commit()"
   ]
  },
  {
   "cell_type": "code",
   "execution_count": 112,
   "metadata": {},
   "outputs": [
    {
     "data": {
      "text/plain": [
       "<sqlite3.Cursor at 0x2bb361af240>"
      ]
     },
     "execution_count": 112,
     "metadata": {},
     "output_type": "execute_result"
    }
   ],
   "source": [
    "Cursor.execute(\"INSERT INTO Servicos VALUES (1, 1000, 1)\")"
   ]
  },
  {
   "cell_type": "code",
   "execution_count": 113,
   "metadata": {},
   "outputs": [
    {
     "data": {
      "text/plain": [
       "[(1, 1000, 1)]"
      ]
     },
     "execution_count": 113,
     "metadata": {},
     "output_type": "execute_result"
    }
   ],
   "source": [
    "Cursor.execute( \"SELECT * FROM Servicos\").fetchall()"
   ]
  },
  {
   "cell_type": "code",
   "execution_count": 114,
   "metadata": {},
   "outputs": [],
   "source": [
    "# Loja de Sapatos\n",
    "\n",
    "# Gerando dados de vendas\n",
    "# ID Vendedor, Valor de Bruto, Desconto, Valor Líquido\n",
    "\n",
    "Query_01 = '''\n",
    "CREATE TABLE Vendas (\n",
    "    ID INT NOT NULL,\n",
    "    ID_Vendedor INT NOT NULL,\n",
    "    ValorVenda INT NOT NULL,\n",
    "    Desconto INT NOT NULL,\n",
    "    PRIMARY KEY (ID)\n",
    ") \n",
    "'''\n",
    "\n",
    "Query_02 = '''\n",
    "CREATE TABLE Vendedor (\n",
    "    ID_Vendedor INT NOT NULL,\n",
    "    Nome varchar(255) NOT NULL,\n",
    "    PRIMARY KEY (ID_Vendedor)\n",
    ")\n",
    "'''\n",
    "\n",
    "Consulta = Cursor.execute( Query_01 )\n",
    "Conexao.commit()\n",
    "\n",
    "Consulta = Cursor.execute( Query_02 )\n",
    "Conexao.commit()"
   ]
  },
  {
   "cell_type": "code",
   "execution_count": 115,
   "metadata": {},
   "outputs": [
    {
     "data": {
      "text/plain": [
       "<sqlite3.Cursor at 0x2bb361af240>"
      ]
     },
     "execution_count": 115,
     "metadata": {},
     "output_type": "execute_result"
    }
   ],
   "source": [
    "Cursor.execute(\"INSERT INTO Vendedor VALUES (1, 'Odemir Depieri Jr')\")\n",
    "Cursor.execute(\"INSERT INTO Vendedor VALUES (2, 'Jose Almeida')\")\n",
    "Cursor.execute(\"INSERT INTO Vendedor VALUES (3, 'Maria Silva')\")\n",
    "Cursor.execute(\"INSERT INTO Vendedor VALUES (4, 'Julia Pereira')\")"
   ]
  },
  {
   "cell_type": "code",
   "execution_count": 116,
   "metadata": {},
   "outputs": [
    {
     "name": "stdout",
     "output_type": "stream",
     "text": [
      "[(1, 'Odemir Depieri Jr'), (2, 'Jose Almeida'), (3, 'Maria Silva'), (4, 'Julia Pereira')]\n"
     ]
    }
   ],
   "source": [
    "Query = '''\n",
    "SELECT * FROM Vendedor\n",
    "'''\n",
    "\n",
    "# Fazendo consulta\n",
    "Consulta = Cursor.execute( Query ).fetchall()\n",
    "\n",
    "# Mostrando o retorno\n",
    "print( Consulta )"
   ]
  },
  {
   "cell_type": "code",
   "execution_count": 117,
   "metadata": {},
   "outputs": [],
   "source": [
    "import random\n",
    "\n",
    "for Input in range(100):\n",
    "\n",
    "  Id = Input\n",
    "  Vendedor = random.randint(1, 4)\n",
    "  Valor_Venda = random.randint( 30, 599 )\n",
    "  Desconto = round( random.random() * 100, 2 )\n",
    "\n",
    "  #print( Id, Vendedor, Valor_Venda, Desconto )\n",
    "  Cursor.execute( f\"INSERT INTO Vendas VALUES ( {Id}, {Vendedor}, {Valor_Venda}, {Desconto} )\" )"
   ]
  },
  {
   "cell_type": "code",
   "execution_count": 118,
   "metadata": {},
   "outputs": [
    {
     "name": "stdout",
     "output_type": "stream",
     "text": [
      "(0, 4, 361, 18.55)\n",
      "(1, 1, 573, 91.82)\n",
      "(2, 2, 61, 79.27)\n",
      "(3, 2, 137, 75.66)\n",
      "(4, 4, 401, 89.34)\n"
     ]
    }
   ],
   "source": [
    "Query = '''\n",
    "SELECT * FROM Vendas\n",
    "'''\n",
    "\n",
    "# Fazendo consulta\n",
    "Consulta = Cursor.execute( Query ).fetchall()\n",
    "\n",
    "# Mostrando o retorno\n",
    "for Linha in Consulta[0:5]:\n",
    "  print( Linha )"
   ]
  },
  {
   "cell_type": "code",
   "execution_count": 119,
   "metadata": {},
   "outputs": [
    {
     "name": "stdout",
     "output_type": "stream",
     "text": [
      "('Maria Silva', 9609, 32, 300.28125)\n",
      "('Odemir Depieri Jr', 6063, 20, 303.15)\n"
     ]
    }
   ],
   "source": [
    "Query = '''\n",
    "\n",
    "-- Seleção das Tabelas e Join\n",
    "SELECT Nome, SUM(Vendas.ValorVenda) as TopVendas, COUNT(Vendas.ValorVenda), AVG(Vendas.ValorVenda)\n",
    "FROM Vendas\n",
    "INNER JOIN Vendedor\n",
    "ON Vendedor.ID_Vendedor = Vendas.ID_Vendedor\n",
    "\n",
    "-- Filtro\n",
    "WHERE Nome = 'Odemir Depieri Jr' or Nome = 'Maria Silva'\n",
    "\n",
    "-- Agrupamento\n",
    "GROUP BY Nome\n",
    "ORDER BY TopVendas DESC\n",
    "'''\n",
    "\n",
    "# Fazendo consulta\n",
    "Consulta = Cursor.execute( Query ).fetchall()\n",
    "\n",
    "# Mostrando o retorno\n",
    "for Linha in Consulta:\n",
    "  print( Linha )"
   ]
  }
 ],
 "metadata": {
  "kernelspec": {
   "display_name": "base",
   "language": "python",
   "name": "python3"
  },
  "language_info": {
   "codemirror_mode": {
    "name": "ipython",
    "version": 3
   },
   "file_extension": ".py",
   "mimetype": "text/x-python",
   "name": "python",
   "nbconvert_exporter": "python",
   "pygments_lexer": "ipython3",
   "version": "3.12.3"
  }
 },
 "nbformat": 4,
 "nbformat_minor": 2
}
